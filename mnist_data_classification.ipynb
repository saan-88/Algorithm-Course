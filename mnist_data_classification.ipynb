{
  "nbformat": 4,
  "nbformat_minor": 0,
  "metadata": {
    "colab": {
      "provenance": [],
      "authorship_tag": "ABX9TyO1IgrICJ6CuJezDwp5glxx",
      "include_colab_link": true
    },
    "kernelspec": {
      "name": "python3",
      "display_name": "Python 3"
    },
    "language_info": {
      "name": "python"
    }
  },
  "cells": [
    {
      "cell_type": "markdown",
      "metadata": {
        "id": "view-in-github",
        "colab_type": "text"
      },
      "source": [
        "<a href=\"https://colab.research.google.com/github/saan-88/Algorithm-Course/blob/main/mnist_data_classification.ipynb\" target=\"_parent\"><img src=\"https://colab.research.google.com/assets/colab-badge.svg\" alt=\"Open In Colab\"/></a>"
      ]
    },
    {
      "cell_type": "markdown",
      "source": [
        "Let's use NumPy to process matrix values, Matplotlib to show images and Keras to build the Neural Network model. Additionally, the MNIST dataset itself is also taken from Keras framework."
      ],
      "metadata": {
        "id": "dj6m9uL4N_eU"
      }
    },
    {
      "cell_type": "code",
      "execution_count": null,
      "metadata": {
        "id": "XjII_G_xN2Ji"
      },
      "outputs": [],
      "source": [
        "import numpy as np\n",
        "import matplotlib.pyplot as plt\n",
        "from keras.layers import Dense, Flatten\n",
        "from keras.models import Sequential\n",
        "from keras.utils import to_categorical\n",
        "from keras.datasets import mnist"
      ]
    },
    {
      "cell_type": "markdown",
      "source": [
        "Next, we can load the dataset by using the following code. Note that this may take a while especially if this is your first time working with MNIST dataset. After running the code below, we will have 4 variables namely X_train, y_train, X_test and y_test, where X is the image and y is the target label. These train and test data consist of 60000 and 10000 images respectively, in which all those images are already in the same size (28 by 28 pixels)."
      ],
      "metadata": {
        "id": "SS92TEAtOCvI"
      }
    },
    {
      "cell_type": "code",
      "source": [
        "# Load MNIST handwritten digit data\n",
        "(X_train, y_train), (X_test, y_test) = mnist.load_data()"
      ],
      "metadata": {
        "colab": {
          "base_uri": "https://localhost:8080/"
        },
        "id": "jh8BrKZJN7Ds",
        "outputId": "0660d5fb-d42a-456e-8527-8b7c989e2c21"
      },
      "execution_count": null,
      "outputs": [
        {
          "output_type": "stream",
          "name": "stdout",
          "text": [
            "Downloading data from https://storage.googleapis.com/tensorflow/tf-keras-datasets/mnist.npz\n",
            "11490434/11490434 [==============================] - 0s 0us/step\n"
          ]
        }
      ]
    },
    {
      "cell_type": "markdown",
      "source": [
        "You may crosscheck those numbers I mentioned above by using the following script:"
      ],
      "metadata": {
        "id": "aAneoFOcOQYK"
      }
    },
    {
      "cell_type": "code",
      "source": [
        "print(X_train.shape)\n",
        "print(X_test.shape)"
      ],
      "metadata": {
        "colab": {
          "base_uri": "https://localhost:8080/"
        },
        "id": "IRmleGftOMNF",
        "outputId": "65545ec9-0a8e-4cb8-e887-ef084bce3f97"
      },
      "execution_count": null,
      "outputs": [
        {
          "output_type": "stream",
          "name": "stdout",
          "text": [
            "(60000, 28, 28)\n",
            "(10000, 28, 28)\n"
          ]
        }
      ]
    },
    {
      "cell_type": "markdown",
      "source": [
        "Up to this point you might be wondering how the MNIST Digit images look like. We may, now see the first 7 images in the dataset by using the following code:"
      ],
      "metadata": {
        "id": "NdqzRPGQOYCD"
      }
    },
    {
      "cell_type": "code",
      "source": [
        "# Display some images\n",
        "fig, axes = plt.subplots(ncols=8, sharex=False,\n",
        "    sharey=True, figsize=(10, 4))\n",
        "for i in range(8):\n",
        "    axes[i].set_title(y_train[i])\n",
        "    axes[i].imshow(X_train[i], cmap='gray')\n",
        "    axes[i].get_xaxis().set_visible(False)\n",
        "    axes[i].get_yaxis().set_visible(False)\n",
        "plt.show()"
      ],
      "metadata": {
        "colab": {
          "base_uri": "https://localhost:8080/",
          "height": 141
        },
        "id": "R_KaxYSHOUKT",
        "outputId": "c735a317-33cd-4473-fe9a-4eaa45a1975b"
      },
      "execution_count": null,
      "outputs": [
        {
          "output_type": "display_data",
          "data": {
            "text/plain": [
              "<Figure size 1000x400 with 8 Axes>"
            ],
            "image/png": "[encoded data removed]"
          },
          "metadata": {}
        }
      ]
    },
    {
      "cell_type": "markdown",
      "source": [
        "The images from above code show the digit written by hand (X) along with the label (y) above each images.\n",
        "\n",
        "Now we will turn all the labels into one-hot representation. It can be done easily by using to_categorical() function from Keras module. Before using the function into our main program, I will explain a bit about how the function works. So in the example below I am going to find out the one-hot representation of class with label 3 in which the total number of classes are 10."
      ],
      "metadata": {
        "id": "TSodTHZwOfzx"
      }
    },
    {
      "cell_type": "code",
      "source": [
        "to_categorical(8, num_classes=10)"
      ],
      "metadata": {
        "colab": {
          "base_uri": "https://localhost:8080/"
        },
        "id": "7kRLJ-v0ObXj",
        "outputId": "44372726-9041-44c3-e82d-de0277bcf69e"
      },
      "execution_count": null,
      "outputs": [
        {
          "output_type": "execute_result",
          "data": {
            "text/plain": [
              "array([0., 0., 0., 0., 0., 0., 0., 0., 1., 0.], dtype=float32)"
            ]
          },
          "metadata": {},
          "execution_count": 5
        }
      ]
    },
    {
      "cell_type": "markdown",
      "source": [
        "You can see here that the output is a simple array which has all-zero values except the value of index 5. And that’s it. Such representation is called as one-hot encoding. Now what we want to do in our program is to one-hot-encode all the target labels (both y_train and y_test), which can be done by using the following code:"
      ],
      "metadata": {
        "id": "9Mq3X-y-OqvY"
      }
    },
    {
      "cell_type": "code",
      "source": [
        "# Convert y_train into one-hot format\n",
        "temp = []\n",
        "for i in range(len(y_train)):\n",
        "    temp.append(to_categorical(y_train[i], num_classes=10))\n",
        "y_train = np.array(temp)\n",
        "# Convert y_test into one-hot format\n",
        "temp = []\n",
        "for i in range(len(y_test)):\n",
        "    temp.append(to_categorical(y_test[i], num_classes=10))\n",
        "y_test = np.array(temp)"
      ],
      "metadata": {
        "id": "vscTlFG6Oj8f"
      },
      "execution_count": null,
      "outputs": []
    },
    {
      "cell_type": "code",
      "source": [
        "print(y_train.shape)\n",
        "print(y_test.shape)"
      ],
      "metadata": {
        "colab": {
          "base_uri": "https://localhost:8080/"
        },
        "id": "983azWlvOubE",
        "outputId": "b6cbb4de-043a-4793-eecf-02dabe373234"
      },
      "execution_count": null,
      "outputs": [
        {
          "output_type": "stream",
          "name": "stdout",
          "text": [
            "(60000, 10)\n",
            "(10000, 10)\n"
          ]
        }
      ]
    },
    {
      "cell_type": "markdown",
      "source": [
        "Alright, so up to this point, we have already had a correct target label shape. Now we can start to create the Neural Network model using Keras.\n",
        "\n",
        "The first thing to do is to initialize a sequential model. Afterwards, we are now able to add layers to it. Here I start the Neural Network model with a flatten layer because we need to reshape the 28 by 28 pixels image (2-dimensions) into 784 values (1-dimension). Next, we connect this 784 values into 5 neurons with sigmoid activation function. Actually, you can freely choose any number of neurons for this layer, but since I want to make the Neural Network model to be simple and fast to train so I just go with 5 neurons for this case. The last thing to add is another dense layer (here I use softmax activation function) which acts as our output layer. In the last layer we need to use 10 neurons because our classification task have 10 different classes."
      ],
      "metadata": {
        "id": "jsd1ynm4O5jc"
      }
    },
    {
      "cell_type": "code",
      "source": [
        "# Create simple Neural Network model\n",
        "model = Sequential()\n",
        "model.add(Flatten(input_shape=(28,28)))\n",
        "model.add(Dense(5, activation='sigmoid'))\n",
        "model.add(Dense(10, activation='softmax'))"
      ],
      "metadata": {
        "id": "oY9wJZ1iOxRn"
      },
      "execution_count": null,
      "outputs": []
    },
    {
      "cell_type": "code",
      "source": [
        "model1 = Sequential()\n",
        "model1.add(Flatten(input_shape=(28,28)))\n",
        "model1.add(Dense(5, activation='sigmoid'))\n",
        "model1.add(Dense(10, activation='sigmoid'))\n",
        "model1.add(Dense(10, activation='softmax'))"
      ],
      "metadata": {
        "id": "g2WrYzkCO92i"
      },
      "execution_count": null,
      "outputs": []
    },
    {
      "cell_type": "code",
      "source": [
        "model2 = Sequential()\n",
        "model2.add(Flatten(input_shape=(28,28)))\n",
        "model2.add(Dense(10, activation='sigmoid'))\n",
        "model2.add(Dense(5, activation='relu'))\n",
        "model2.add(Dense(10, activation='softmax'))"
      ],
      "metadata": {
        "id": "9a5jUANNPCSH"
      },
      "execution_count": null,
      "outputs": []
    },
    {
      "cell_type": "markdown",
      "source": [
        "We can also use the code below in order to see the details of our architecture:"
      ],
      "metadata": {
        "id": "Asoe6u-0PJ8N"
      }
    },
    {
      "cell_type": "code",
      "source": [
        "model.summary()"
      ],
      "metadata": {
        "colab": {
          "base_uri": "https://localhost:8080/"
        },
        "id": "zTa69C41PFzy",
        "outputId": "d7c572a8-d3d3-4dea-9865-a25463194844"
      },
      "execution_count": null,
      "outputs": [
        {
          "output_type": "stream",
          "name": "stdout",
          "text": [
            "Model: \"sequential\"\n",
            "_________________________________________________________________\n",
            " Layer (type)                Output Shape              Param #   \n",
            "=================================================================\n",
            " flatten (Flatten)           (None, 784)               0         \n",
            "                                                                 \n",
            " dense (Dense)               (None, 5)                 3925      \n",
            "                                                                 \n",
            " dense_1 (Dense)             (None, 10)                60        \n",
            "                                                                 \n",
            "=================================================================\n",
            "Total params: 3985 (15.57 KB)\n",
            "Trainable params: 3985 (15.57 KB)\n",
            "Non-trainable params: 0 (0.00 Byte)\n",
            "_________________________________________________________________\n"
          ]
        }
      ]
    },
    {
      "cell_type": "markdown",
      "source": [
        "After constructing the Neural Network classifier model, we need to compile it with the following code:"
      ],
      "metadata": {
        "id": "YoWEvEGaPTrE"
      }
    },
    {
      "cell_type": "code",
      "source": [
        "model.compile(loss='categorical_crossentropy',\n",
        "              optimizer='adam',\n",
        "              metrics=['acc'])"
      ],
      "metadata": {
        "id": "Cz68yfPQPNcA"
      },
      "execution_count": null,
      "outputs": []
    },
    {
      "cell_type": "code",
      "source": [
        "model2.compile(loss='categorical_crossentropy',\n",
        "              optimizer='adam',\n",
        "              metrics=['acc'])"
      ],
      "metadata": {
        "id": "_zITxvJqPWr1"
      },
      "execution_count": null,
      "outputs": []
    },
    {
      "cell_type": "markdown",
      "source": [
        "The code above shows that we pass categorical cross entropy for the loss function argument because it is just the best one to be used in multiclass classification problem. Next, we use Adam optimizer since it is also the best one for most cases. Lastly we have accuracy to be passed in metrics argument in order to measure the performance of our classifier.\n",
        "\n",
        "Now into the fun part: training our Neural Network! So basically training a model is easy as what we need to do is just to run the fit() method on our model."
      ],
      "metadata": {
        "id": "PBJpUr4CPeL3"
      }
    },
    {
      "cell_type": "code",
      "source": [
        "model.fit(X_train, y_train, epochs=50,\n",
        "          validation_data=(X_test,y_test))"
      ],
      "metadata": {
        "colab": {
          "base_uri": "https://localhost:8080/"
        },
        "id": "5TouSTfePamX",
        "outputId": "908de56a-9ee3-4800-d250-3248564d66e5"
      },
      "execution_count": null,
      "outputs": [
        {
          "output_type": "stream",
          "name": "stdout",
          "text": [
            "Epoch 1/50\n",
            "1875/1875 [==============================] - 5s 2ms/step - loss: 1.6878 - acc: 0.4658 - val_loss: 1.3542 - val_acc: 0.6031\n",
            "Epoch 2/50\n",
            "1875/1875 [==============================] - 3s 2ms/step - loss: 1.1960 - acc: 0.6656 - val_loss: 1.0467 - val_acc: 0.7316\n",
            "Epoch 3/50\n",
            "1875/1875 [==============================] - 5s 2ms/step - loss: 1.0204 - acc: 0.7114 - val_loss: 0.9565 - val_acc: 0.7278\n",
            "Epoch 4/50\n",
            "1875/1875 [==============================] - 4s 2ms/step - loss: 0.9516 - acc: 0.7238 - val_loss: 0.8846 - val_acc: 0.7534\n",
            "Epoch 5/50\n",
            "1875/1875 [==============================] - 5s 3ms/step - loss: 0.9029 - acc: 0.7367 - val_loss: 0.9287 - val_acc: 0.7346\n",
            "Epoch 6/50\n",
            "1875/1875 [==============================] - 4s 2ms/step - loss: 0.8795 - acc: 0.7463 - val_loss: 0.8224 - val_acc: 0.7715\n",
            "Epoch 7/50\n",
            "1875/1875 [==============================] - 4s 2ms/step - loss: 0.8448 - acc: 0.7585 - val_loss: 0.8203 - val_acc: 0.7658\n",
            "Epoch 8/50\n",
            "1875/1875 [==============================] - 4s 2ms/step - loss: 0.8206 - acc: 0.7612 - val_loss: 0.8447 - val_acc: 0.7557\n",
            "Epoch 9/50\n",
            "1875/1875 [==============================] - 5s 2ms/step - loss: 0.8365 - acc: 0.7562 - val_loss: 0.8187 - val_acc: 0.7712\n",
            "Epoch 10/50\n",
            "1875/1875 [==============================] - 4s 2ms/step - loss: 0.8357 - acc: 0.7553 - val_loss: 0.7980 - val_acc: 0.7692\n",
            "Epoch 11/50\n",
            "1875/1875 [==============================] - 4s 2ms/step - loss: 0.8065 - acc: 0.7624 - val_loss: 0.8103 - val_acc: 0.7580\n",
            "Epoch 12/50\n",
            "1875/1875 [==============================] - 4s 2ms/step - loss: 0.8056 - acc: 0.7624 - val_loss: 0.7682 - val_acc: 0.7794\n",
            "Epoch 13/50\n",
            "1875/1875 [==============================] - 5s 3ms/step - loss: 0.8031 - acc: 0.7611 - val_loss: 0.8062 - val_acc: 0.7702\n",
            "Epoch 14/50\n",
            "1875/1875 [==============================] - 3s 2ms/step - loss: 0.8055 - acc: 0.7645 - val_loss: 0.7563 - val_acc: 0.7875\n",
            "Epoch 15/50\n",
            "1875/1875 [==============================] - 3s 2ms/step - loss: 0.7888 - acc: 0.7670 - val_loss: 0.7671 - val_acc: 0.7800\n",
            "Epoch 16/50\n",
            "1875/1875 [==============================] - 4s 2ms/step - loss: 0.7750 - acc: 0.7815 - val_loss: 0.7586 - val_acc: 0.7810\n",
            "Epoch 17/50\n",
            "1875/1875 [==============================] - 4s 2ms/step - loss: 0.7764 - acc: 0.7807 - val_loss: 0.7619 - val_acc: 0.8000\n",
            "Epoch 18/50\n",
            "1875/1875 [==============================] - 3s 2ms/step - loss: 0.7874 - acc: 0.7774 - val_loss: 0.7858 - val_acc: 0.7834\n",
            "Epoch 19/50\n",
            "1875/1875 [==============================] - 4s 2ms/step - loss: 0.7526 - acc: 0.7922 - val_loss: 0.7482 - val_acc: 0.8068\n",
            "Epoch 20/50\n",
            "1875/1875 [==============================] - 4s 2ms/step - loss: 0.7502 - acc: 0.7940 - val_loss: 0.7387 - val_acc: 0.7950\n",
            "Epoch 21/50\n",
            "1875/1875 [==============================] - 3s 2ms/step - loss: 0.7525 - acc: 0.7930 - val_loss: 0.7644 - val_acc: 0.7863\n",
            "Epoch 22/50\n",
            "1875/1875 [==============================] - 4s 2ms/step - loss: 0.7414 - acc: 0.7995 - val_loss: 0.7338 - val_acc: 0.8040\n",
            "Epoch 23/50\n",
            "1875/1875 [==============================] - 5s 3ms/step - loss: 0.7408 - acc: 0.7997 - val_loss: 0.7679 - val_acc: 0.7926\n",
            "Epoch 24/50\n",
            "1875/1875 [==============================] - 4s 2ms/step - loss: 0.7217 - acc: 0.8084 - val_loss: 0.7296 - val_acc: 0.8118\n",
            "Epoch 25/50\n",
            "1875/1875 [==============================] - 4s 2ms/step - loss: 0.7471 - acc: 0.7997 - val_loss: 0.7328 - val_acc: 0.8055\n",
            "Epoch 26/50\n",
            "1875/1875 [==============================] - 5s 2ms/step - loss: 0.7276 - acc: 0.8041 - val_loss: 0.7495 - val_acc: 0.8105\n",
            "Epoch 27/50\n",
            "1875/1875 [==============================] - 4s 2ms/step - loss: 0.7226 - acc: 0.8073 - val_loss: 0.7355 - val_acc: 0.8060\n",
            "Epoch 28/50\n",
            "1875/1875 [==============================] - 4s 2ms/step - loss: 0.7365 - acc: 0.7993 - val_loss: 0.7199 - val_acc: 0.8056\n",
            "Epoch 29/50\n",
            "1875/1875 [==============================] - 4s 2ms/step - loss: 0.7242 - acc: 0.8004 - val_loss: 0.6959 - val_acc: 0.8268\n",
            "Epoch 30/50\n",
            "1875/1875 [==============================] - 5s 2ms/step - loss: 0.7117 - acc: 0.8128 - val_loss: 0.7103 - val_acc: 0.8186\n",
            "Epoch 31/50\n",
            "1875/1875 [==============================] - 4s 2ms/step - loss: 0.7295 - acc: 0.8035 - val_loss: 0.6849 - val_acc: 0.8270\n",
            "Epoch 32/50\n",
            "1875/1875 [==============================] - 4s 2ms/step - loss: 0.7034 - acc: 0.8117 - val_loss: 0.7043 - val_acc: 0.8077\n",
            "Epoch 33/50\n",
            "1875/1875 [==============================] - 5s 3ms/step - loss: 0.7251 - acc: 0.7980 - val_loss: 0.7128 - val_acc: 0.8133\n",
            "Epoch 34/50\n",
            "1875/1875 [==============================] - 4s 2ms/step - loss: 0.7102 - acc: 0.8097 - val_loss: 0.7388 - val_acc: 0.8028\n",
            "Epoch 35/50\n",
            "1875/1875 [==============================] - 4s 2ms/step - loss: 0.7264 - acc: 0.7959 - val_loss: 0.7384 - val_acc: 0.8020\n",
            "Epoch 36/50\n",
            "1875/1875 [==============================] - 5s 3ms/step - loss: 0.6891 - acc: 0.8167 - val_loss: 0.7470 - val_acc: 0.7920\n",
            "Epoch 37/50\n",
            "1875/1875 [==============================] - 4s 2ms/step - loss: 0.6879 - acc: 0.8129 - val_loss: 0.7334 - val_acc: 0.7857\n",
            "Epoch 38/50\n",
            "1875/1875 [==============================] - 3s 2ms/step - loss: 0.6789 - acc: 0.8147 - val_loss: 0.6718 - val_acc: 0.8193\n",
            "Epoch 39/50\n",
            "1875/1875 [==============================] - 5s 2ms/step - loss: 0.6882 - acc: 0.8133 - val_loss: 0.6807 - val_acc: 0.8179\n",
            "Epoch 40/50\n",
            "1875/1875 [==============================] - 4s 2ms/step - loss: 0.6890 - acc: 0.8091 - val_loss: 0.6883 - val_acc: 0.8029\n",
            "Epoch 41/50\n",
            "1875/1875 [==============================] - 4s 2ms/step - loss: 0.6729 - acc: 0.8153 - val_loss: 0.6732 - val_acc: 0.8238\n",
            "Epoch 42/50\n",
            "1875/1875 [==============================] - 4s 2ms/step - loss: 0.6630 - acc: 0.8216 - val_loss: 0.6515 - val_acc: 0.8277\n",
            "Epoch 43/50\n",
            "1875/1875 [==============================] - 5s 3ms/step - loss: 0.6672 - acc: 0.8186 - val_loss: 0.6845 - val_acc: 0.8010\n",
            "Epoch 44/50\n",
            "1875/1875 [==============================] - 4s 2ms/step - loss: 0.6646 - acc: 0.8168 - val_loss: 0.6445 - val_acc: 0.8341\n",
            "Epoch 45/50\n",
            "1875/1875 [==============================] - 4s 2ms/step - loss: 0.6459 - acc: 0.8267 - val_loss: 0.6601 - val_acc: 0.8269\n",
            "Epoch 46/50\n",
            "1875/1875 [==============================] - 5s 3ms/step - loss: 0.6588 - acc: 0.8247 - val_loss: 0.6325 - val_acc: 0.8401\n",
            "Epoch 47/50\n",
            "1875/1875 [==============================] - 4s 2ms/step - loss: 0.6574 - acc: 0.8275 - val_loss: 0.6604 - val_acc: 0.8261\n",
            "Epoch 48/50\n",
            "1875/1875 [==============================] - 4s 2ms/step - loss: 0.6417 - acc: 0.8314 - val_loss: 0.6305 - val_acc: 0.8458\n",
            "Epoch 49/50\n",
            "1875/1875 [==============================] - 5s 3ms/step - loss: 0.6429 - acc: 0.8339 - val_loss: 0.7178 - val_acc: 0.8007\n",
            "Epoch 50/50\n",
            "1875/1875 [==============================] - 4s 2ms/step - loss: 0.6425 - acc: 0.8288 - val_loss: 0.6256 - val_acc: 0.8339\n"
          ]
        },
        {
          "output_type": "execute_result",
          "data": {
            "text/plain": [
              "<keras.src.callbacks.History at 0x79f07f8b4df0>"
            ]
          },
          "metadata": {},
          "execution_count": 14
        }
      ]
    },
    {
      "cell_type": "code",
      "source": [
        "model1.compile(loss='categorical_crossentropy',\n",
        "              optimizer='adam',\n",
        "              metrics=['acc'])"
      ],
      "metadata": {
        "id": "QdnfeJ0FPk_I"
      },
      "execution_count": null,
      "outputs": []
    },
    {
      "cell_type": "code",
      "source": [
        "# model1.fit(X_train, y_train, epochs=50,\n",
        "#           validation_data=(X_test,y_test))"
      ],
      "metadata": {
        "id": "Kwe4mZ2oQngn"
      },
      "execution_count": null,
      "outputs": []
    },
    {
      "cell_type": "code",
      "source": [
        "model2.compile(loss='categorical_crossentropy',\n",
        "              optimizer='adam',\n",
        "              metrics=['acc'])"
      ],
      "metadata": {
        "id": "5ucD_dGxQstt"
      },
      "execution_count": null,
      "outputs": []
    },
    {
      "cell_type": "code",
      "source": [
        "# model2.fit(X_train, y_train, epochs=50,\n",
        "#           validation_data=(X_test,y_test))"
      ],
      "metadata": {
        "id": "6Fl_DDB4QwoI"
      },
      "execution_count": null,
      "outputs": []
    },
    {
      "cell_type": "markdown",
      "source": [
        "According to the output above, we can see that the accuracy is increasing (both towards training and test data) in our 5-iteration training process. I think this result is pretty good because only with relatively simple Neural Network model we can obtain approximately 75% of accuracy, even though this result can still be improved.\n",
        "\n",
        "Now we can try to perform predictions on several images stored in our X_test variable."
      ],
      "metadata": {
        "id": "Bij-B3aQQ8yW"
      }
    },
    {
      "cell_type": "code",
      "source": [
        "predictions = model.predict(X_test)\n",
        "print(predictions)"
      ],
      "metadata": {
        "colab": {
          "base_uri": "https://localhost:8080/"
        },
        "id": "6VQG5PsVQ3zY",
        "outputId": "4eed9c3d-99bb-4f53-b59a-1687ae44b1eb"
      },
      "execution_count": null,
      "outputs": [
        {
          "output_type": "stream",
          "name": "stdout",
          "text": [
            "313/313 [==============================] - 1s 2ms/step\n",
            "[[2.2420159e-03 2.4168574e-07 3.4952175e-04 ... 9.3572879e-01\n",
            "  8.8189612e-04 2.7913198e-02]\n",
            " [2.9140078e-03 1.5595098e-03 9.3943983e-01 ... 3.6514134e-04\n",
            "  9.0063307e-03 1.0272790e-03]\n",
            " [1.6821028e-03 9.2898798e-01 2.1531926e-02 ... 1.0520248e-04\n",
            "  4.0709201e-02 4.6578124e-03]\n",
            " ...\n",
            " [9.4809220e-05 1.5907700e-06 5.5598817e-04 ... 2.1170136e-02\n",
            "  6.6444338e-03 2.0602800e-02]\n",
            " [2.0171127e-03 4.7007459e-05 2.0673433e-03 ... 3.8221403e-04\n",
            "  1.6728546e-01 3.4344438e-04]\n",
            " [6.6280244e-03 5.0948607e-04 8.7588150e-03 ... 2.5332471e-05\n",
            "  1.0667424e-02 1.2479334e-04]]\n"
          ]
        }
      ]
    },
    {
      "cell_type": "markdown",
      "source": [
        "So actually, this output shape is (10000, 10) in which it stores the classification probability value of each sample. Run the following code find out the actual prediction of the model:"
      ],
      "metadata": {
        "id": "iKt3HxcARNKm"
      }
    },
    {
      "cell_type": "code",
      "source": [
        "predictions = np.argmax(predictions, axis = 1)\n",
        "print(predictions)"
      ],
      "metadata": {
        "colab": {
          "base_uri": "https://localhost:8080/"
        },
        "id": "WFAncO3UREpd",
        "outputId": "ddcf1a51-b514-45f0-eafe-223779aea4d6"
      },
      "execution_count": null,
      "outputs": [
        {
          "output_type": "stream",
          "name": "stdout",
          "text": [
            "[7 2 1 ... 4 5 6]\n"
          ]
        }
      ]
    },
    {
      "cell_type": "markdown",
      "source": [
        "Lastly, using the code below we can try to print some images along with its predictions:"
      ],
      "metadata": {
        "id": "4FUpxWq3RR20"
      }
    },
    {
      "cell_type": "code",
      "source": [
        "fig, axes = plt.subplots(ncols=10, sharex=False,\n",
        "                         sharey=True, figsize=(20, 4))\n",
        "for i in range(10):\n",
        "    axes[i].set_title(predictions[i])\n",
        "    axes[i].imshow(X_test[i], cmap='gray')\n",
        "    axes[i].get_xaxis().set_visible(False)\n",
        "    axes[i].get_yaxis().set_visible(False)\n",
        "plt.show()"
      ],
      "metadata": {
        "colab": {
          "base_uri": "https://localhost:8080/",
          "height": 173
        },
        "id": "veGhL9-nROKt",
        "outputId": "baa4b26b-f1f6-422a-98ab-ad2eb15eb9cd"
      },
      "execution_count": null,
      "outputs": [
        {
          "output_type": "display_data",
          "data": {
            "text/plain": [
              "<Figure size 2000x400 with 10 Axes>"
            ],
            "image/png": "[encoded data removed]"
          },
          "metadata": {}
        }
      ]
    },
    {
      "cell_type": "code",
      "source": [],
      "metadata": {
        "id": "-1GHNtXSRVqj"
      },
      "execution_count": null,
      "outputs": []
    }
  ]
}